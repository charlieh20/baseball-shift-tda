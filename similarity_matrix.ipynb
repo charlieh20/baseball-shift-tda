{
 "cells": [
  {
   "cell_type": "code",
   "execution_count": null,
   "metadata": {},
   "outputs": [],
   "source": [
    "from importlib import reload\n",
    "import generate_similarity_matrix\n",
    "reload(generate_similarity_matrix)\n",
    "from generate_similarity_matrix import similarity_matrix_teams, similarity_matrix_dates, similarity_matrix_handedness, similarity_matrix_rank, plot_sim_matrix\n",
    "import pandas as pd"
   ]
  },
  {
   "cell_type": "code",
   "execution_count": null,
   "metadata": {},
   "outputs": [],
   "source": [
    "# data -> cleaned dataframe created in dataset_creation.ipynb\n",
    "# subset_sample_percentage -> percentage of dataset selected for each persistance diagram\n",
    "# number_of_pd -> number of persistence diagrams created per 'group'\n",
    "# pairwise_comparisons -> number of Wasserstein distances computed between random persistence diagrams of each 'group'\n",
    "\n",
    "\n",
    "# Average Runtime (M1 Mac, 2020)\n",
    "\n",
    "#similarity_matrix_teams(data, subset_sample_percentage=0.8, number_of_pd=100, pairwise_comparisons=100)\n",
    "# 1 min, 15 seconds\n",
    "\n",
    "#similarity_matrix_dates(data, subset_sample_percentage=0.8, number_of_pd=200, pairwise_comparisons=200)\n",
    "# 20 seconds\n",
    "\n",
    "#similarity_matrix_handedness(data, subset_sample_percentage=0.8, number_of_pd=200, pairwise_comparisons=200)\n",
    "# 12 seconds\n",
    "\n",
    "#similarity_matrix_rank(data, subset_sample_percentage=0.8, number_of_pd=100, pairwise_comparisons=100)\n",
    "# 30 seconds"
   ]
  },
  {
   "cell_type": "code",
   "execution_count": null,
   "metadata": {},
   "outputs": [],
   "source": [
    "data = pd.read_csv('./data/final_cleaned_statcast_shift_data.csv')"
   ]
  },
  {
   "cell_type": "code",
   "execution_count": null,
   "metadata": {},
   "outputs": [],
   "source": [
    "scores = similarity_matrix_teams(data, subset_sample_percentage=0.8, number_of_pd=100, pairwise_comparisons=100)\n",
    "plot_sim_matrix(scores, figsize=(20, 20), group_by='Teams')"
   ]
  },
  {
   "cell_type": "code",
   "execution_count": null,
   "metadata": {},
   "outputs": [],
   "source": [
    "scores = similarity_matrix_dates(data, subset_sample_percentage=0.8, number_of_pd=200, pairwise_comparisons=200)\n",
    "plot_sim_matrix(scores, figsize=(10, 10), group_by='Dates')"
   ]
  },
  {
   "cell_type": "code",
   "execution_count": null,
   "metadata": {},
   "outputs": [],
   "source": [
    "scores = similarity_matrix_handedness(data, subset_sample_percentage=0.8, number_of_pd=200, pairwise_comparisons=200)\n",
    "plot_sim_matrix(scores, figsize=(5, 5), group_by='Handedness')"
   ]
  },
  {
   "cell_type": "code",
   "execution_count": null,
   "metadata": {},
   "outputs": [],
   "source": [
    "scores = similarity_matrix_rank(data, subset_sample_percentage=0.8, number_of_pd=100, pairwise_comparisons=100)\n",
    "plot_sim_matrix(scores, figsize=(12, 12), group_by='Shift Rank')"
   ]
  }
 ],
 "metadata": {
  "kernelspec": {
   "display_name": "Python 3",
   "language": "python",
   "name": "python3"
  },
  "language_info": {
   "codemirror_mode": {
    "name": "ipython",
    "version": 3
   },
   "file_extension": ".py",
   "mimetype": "text/x-python",
   "name": "python",
   "nbconvert_exporter": "python",
   "pygments_lexer": "ipython3",
   "version": "3.10.5"
  }
 },
 "nbformat": 4,
 "nbformat_minor": 2
}
